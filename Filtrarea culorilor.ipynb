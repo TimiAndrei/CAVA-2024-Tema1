{
 "cells": [
  {
   "cell_type": "code",
   "execution_count": 1,
   "id": "3b973af6",
   "metadata": {},
   "outputs": [],
   "source": [
    "import numpy as np\n",
    "import cv2 as cv\n",
    "import os\n",
    "import glob\n",
    "import matplotlib.pyplot as plt\n",
    "from numpy.random import uniform\n",
    "import pdb"
   ]
  },
  {
   "cell_type": "code",
   "execution_count": 2,
   "id": "e2588322",
   "metadata": {},
   "outputs": [],
   "source": [
    "def find_color_values_using_trackbar(frame):\n",
    "\n",
    "    frame_hsv = cv.cvtColor(frame, cv.COLOR_BGR2HSV)\n",
    " \n",
    "    def nothing(x):\n",
    "        pass\n",
    "\n",
    "    cv.namedWindow(\"Trackbar\") \n",
    "    cv.createTrackbar(\"LH\", \"Trackbar\", 0, 255, nothing)\n",
    "    cv.createTrackbar(\"LS\", \"Trackbar\", 0, 255, nothing)\n",
    "    cv.createTrackbar(\"LV\", \"Trackbar\", 0, 255, nothing)\n",
    "    cv.createTrackbar(\"UH\", \"Trackbar\", 255, 255, nothing)\n",
    "    cv.createTrackbar(\"US\", \"Trackbar\", 255, 255, nothing)\n",
    "    cv.createTrackbar(\"UV\", \"Trackbar\", 255, 255, nothing)\n",
    "    \n",
    "    \n",
    "    while True:\n",
    "\n",
    "        l_h = cv.getTrackbarPos(\"LH\", \"Trackbar\")\n",
    "        l_s = cv.getTrackbarPos(\"LS\", \"Trackbar\")\n",
    "        l_v = cv.getTrackbarPos(\"LV\", \"Trackbar\")\n",
    "        u_h = cv.getTrackbarPos(\"UH\", \"Trackbar\")\n",
    "        u_s = cv.getTrackbarPos(\"US\", \"Trackbar\")\n",
    "        u_v = cv.getTrackbarPos(\"UV\", \"Trackbar\")\n",
    "\n",
    "\n",
    "        l = np.array([l_h, l_s, l_v])\n",
    "        u = np.array([u_h, u_s, u_v])\n",
    "        mask_table_hsv = cv.inRange(frame_hsv, l, u)        \n",
    "\n",
    "        res = cv.bitwise_and(frame, frame, mask=mask_table_hsv)    \n",
    "\n",
    "        frame_resized = cv.resize(frame, (1024, 1024))\n",
    "        mask_resized = cv.resize(mask_table_hsv, (1024, 720))\n",
    "        res_resized = cv.resize(res, (1024, 1024))\n",
    "        # cv.imshow(\"Frame\", frame_resized)\n",
    "        cv.imshow(\"Mask\", mask_resized) \n",
    "        # cv.imshow(\"Res\", res_resized)\n",
    "\n",
    "        # cv.imshow(\"Frame\", frame)\n",
    "        # cv.imshow(\"Mask\", mask_table_hsv)\n",
    "        # cv.imshow(\"Res\", res)\n",
    "\n",
    "        \n",
    "\n",
    "        if cv.waitKey(25) & 0xFF == ord('q'):\n",
    "                break\n",
    "    cv.destroyAllWindows()"
   ]
  },
  {
   "cell_type": "code",
   "execution_count": null,
   "id": "ab73d97b",
   "metadata": {},
   "outputs": [
    {
     "ename": "error",
     "evalue": "OpenCV(4.10.0) D:\\a\\opencv-python\\opencv-python\\opencv\\modules\\highgui\\src\\window_w32.cpp:2561: error: (-27:Null pointer) NULL window: 'Trackbar' in function 'cvGetTrackbarPos'\n",
     "output_type": "error",
     "traceback": [
      "\u001b[1;31m---------------------------------------------------------------------------\u001b[0m",
      "\u001b[1;31merror\u001b[0m                                     Traceback (most recent call last)",
      "Cell \u001b[1;32mIn[8], line 2\u001b[0m\n\u001b[0;32m      1\u001b[0m img \u001b[38;5;241m=\u001b[39m cv\u001b[38;5;241m.\u001b[39mimread(\u001b[38;5;124m\"\u001b[39m\u001b[38;5;124mantrenare/1_49.jpg\u001b[39m\u001b[38;5;124m\"\u001b[39m)\n\u001b[1;32m----> 2\u001b[0m \u001b[43mfind_color_values_using_trackbar\u001b[49m\u001b[43m(\u001b[49m\u001b[43mimg\u001b[49m\u001b[43m)\u001b[49m\n",
      "Cell \u001b[1;32mIn[2], line 19\u001b[0m, in \u001b[0;36mfind_color_values_using_trackbar\u001b[1;34m(frame)\u001b[0m\n\u001b[0;32m     14\u001b[0m cv\u001b[38;5;241m.\u001b[39mcreateTrackbar(\u001b[38;5;124m\"\u001b[39m\u001b[38;5;124mUV\u001b[39m\u001b[38;5;124m\"\u001b[39m, \u001b[38;5;124m\"\u001b[39m\u001b[38;5;124mTrackbar\u001b[39m\u001b[38;5;124m\"\u001b[39m, \u001b[38;5;241m255\u001b[39m, \u001b[38;5;241m255\u001b[39m, nothing)\n\u001b[0;32m     17\u001b[0m \u001b[38;5;28;01mwhile\u001b[39;00m \u001b[38;5;28;01mTrue\u001b[39;00m:\n\u001b[1;32m---> 19\u001b[0m     l_h \u001b[38;5;241m=\u001b[39m \u001b[43mcv\u001b[49m\u001b[38;5;241;43m.\u001b[39;49m\u001b[43mgetTrackbarPos\u001b[49m\u001b[43m(\u001b[49m\u001b[38;5;124;43m\"\u001b[39;49m\u001b[38;5;124;43mLH\u001b[39;49m\u001b[38;5;124;43m\"\u001b[39;49m\u001b[43m,\u001b[49m\u001b[43m \u001b[49m\u001b[38;5;124;43m\"\u001b[39;49m\u001b[38;5;124;43mTrackbar\u001b[39;49m\u001b[38;5;124;43m\"\u001b[39;49m\u001b[43m)\u001b[49m\n\u001b[0;32m     20\u001b[0m     l_s \u001b[38;5;241m=\u001b[39m cv\u001b[38;5;241m.\u001b[39mgetTrackbarPos(\u001b[38;5;124m\"\u001b[39m\u001b[38;5;124mLS\u001b[39m\u001b[38;5;124m\"\u001b[39m, \u001b[38;5;124m\"\u001b[39m\u001b[38;5;124mTrackbar\u001b[39m\u001b[38;5;124m\"\u001b[39m)\n\u001b[0;32m     21\u001b[0m     l_v \u001b[38;5;241m=\u001b[39m cv\u001b[38;5;241m.\u001b[39mgetTrackbarPos(\u001b[38;5;124m\"\u001b[39m\u001b[38;5;124mLV\u001b[39m\u001b[38;5;124m\"\u001b[39m, \u001b[38;5;124m\"\u001b[39m\u001b[38;5;124mTrackbar\u001b[39m\u001b[38;5;124m\"\u001b[39m)\n",
      "\u001b[1;31merror\u001b[0m: OpenCV(4.10.0) D:\\a\\opencv-python\\opencv-python\\opencv\\modules\\highgui\\src\\window_w32.cpp:2561: error: (-27:Null pointer) NULL window: 'Trackbar' in function 'cvGetTrackbarPos'\n"
     ]
    }
   ],
   "source": [
    "img = cv.imread(\"full_board.jpg\")\n",
    "find_color_values_using_trackbar(img)"
   ]
  },
  {
   "cell_type": "code",
   "execution_count": 4,
   "id": "a91bbc1d",
   "metadata": {},
   "outputs": [],
   "source": [
    "low_yellow = (15, 105, 105)\n",
    "high_yellow = (90, 255, 255)\n",
    "img_hsv = cv.cvtColor(img, cv.COLOR_BGR2HSV)\n",
    "mask_yellow_hsv = cv.inRange(img_hsv, low_yellow, high_yellow)\n",
    "# cv.imshow('img_initial', img)\n",
    "# cv.imshow('mask_yellow_hsv', mask_yellow_hsv)\n",
    "\n",
    "img_hsv_resized = cv.resize(img_hsv, (640, 480))\n",
    "mask_yellow_hsv_resized = cv.resize(mask_yellow_hsv, (640, 480))\n",
    "cv.imshow(\"img_initial\", img_hsv_resized)\n",
    "cv.imshow(\"mask_yellow_hsv\", mask_yellow_hsv_resized)\n",
    "\n",
    "cv.waitKey(0)\n",
    "cv.destroyAllWindows()"
   ]
  },
  {
   "cell_type": "code",
   "execution_count": null,
   "id": "31cd69be",
   "metadata": {},
   "outputs": [],
   "source": []
  }
 ],
 "metadata": {
  "kernelspec": {
   "display_name": "venv",
   "language": "python",
   "name": "python3"
  },
  "language_info": {
   "codemirror_mode": {
    "name": "ipython",
    "version": 3
   },
   "file_extension": ".py",
   "mimetype": "text/x-python",
   "name": "python",
   "nbconvert_exporter": "python",
   "pygments_lexer": "ipython3",
   "version": "3.11.9"
  }
 },
 "nbformat": 4,
 "nbformat_minor": 5
}
